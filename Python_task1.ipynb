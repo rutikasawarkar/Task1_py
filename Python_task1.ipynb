{
 "cells": [
  {
   "cell_type": "markdown",
   "id": "ebd61b49-b988-41ea-b392-4dcc45aee4dc",
   "metadata": {},
   "source": [
    "# 1 Markdown Cells"
   ]
  },
  {
   "cell_type": "markdown",
   "id": "b3764886-2632-4993-b8c0-c7c05ffe91d5",
   "metadata": {},
   "source": [
    "This is a Markdown cell."
   ]
  },
  {
   "cell_type": "markdown",
   "id": "28b836a2-d042-4370-89e3-cd68a11c20af",
   "metadata": {},
   "source": [
    "# 2 Headings"
   ]
  },
  {
   "cell_type": "markdown",
   "id": "b76f6895-4709-4666-82ec-bf77d993edc4",
   "metadata": {},
   "source": [
    "# This is a H1 heading\n",
    "## This is a H2 heading\n",
    "### This is a H3 heading"
   ]
  },
  {
   "cell_type": "markdown",
   "id": "c9da3061-c46f-4976-a294-2fdcc23aaba8",
   "metadata": {},
   "source": [
    "# 3 Bold and Italic Text"
   ]
  },
  {
   "cell_type": "markdown",
   "id": "f8eae932-3047-4fde-accb-0b1e7c21fccb",
   "metadata": {},
   "source": [
    "**This text is bold**\n",
    "_This text is italic_"
   ]
  },
  {
   "cell_type": "markdown",
   "id": "0ec0b9b9-52b1-4ce2-87ba-b8669846c7e1",
   "metadata": {},
   "source": [
    "# 4 Blockquotes"
   ]
  },
  {
   "cell_type": "markdown",
   "id": "0344884c-d089-45cd-9f38-bd313b06e81e",
   "metadata": {},
   "source": [
    "> This is a blockquotes"
   ]
  },
  {
   "cell_type": "markdown",
   "id": "f7112efa-506f-4e8b-9a0b-a4f86e1da5a4",
   "metadata": {},
   "source": [
    "# 5 Bullets Points"
   ]
  },
  {
   "cell_type": "markdown",
   "id": "fcfa2668-f40c-43a8-ba2a-085c4a585e77",
   "metadata": {},
   "source": [
    "- Point 1\n",
    "- Point 2\n",
    "  - Subpoint"
   ]
  },
  {
   "cell_type": "markdown",
   "id": "24d3a397-0fe1-4462-a8b9-422423debf56",
   "metadata": {},
   "source": [
    "# 6 Numbered Lists"
   ]
  },
  {
   "cell_type": "markdown",
   "id": "8c580da3-321a-44a8-a5dd-eddd282998a5",
   "metadata": {},
   "source": [
    "1. First item\n",
    "2. Second item\n",
    "3. Third item"
   ]
  },
  {
   "cell_type": "markdown",
   "id": "84fac954-ecd5-4b72-baa5-c2b7d03ae092",
   "metadata": {},
   "source": [
    "# 7 Links"
   ]
  },
  {
   "cell_type": "markdown",
   "id": "6440970b-29f6-4d7e-92fc-6cb962324340",
   "metadata": {},
   "source": [
    "[Jupyter Homepage](https://jupyter.org)"
   ]
  },
  {
   "cell_type": "markdown",
   "id": "d01c126b-4739-4b0f-a13f-eaea0c00353f",
   "metadata": {},
   "source": [
    "# 8 Images"
   ]
  },
  {
   "cell_type": "markdown",
   "id": "97458e59-0c45-4777-81c4-b1926db62bfb",
   "metadata": {},
   "source": [
    "![jupyter logo](https://jupyter.org/assets/homepage/main-logo.svg)"
   ]
  },
  {
   "cell_type": "markdown",
   "id": "40624812-b034-47b3-8467-ed2e98bad5b5",
   "metadata": {},
   "source": [
    "# 9 Code Blocks(Inline and block)"
   ]
  },
  {
   "cell_type": "markdown",
   "id": "0ef59779-dcc1-4e37-8efa-819c02a06291",
   "metadata": {},
   "source": [
    "Inline code ex: `print(\"Hello World\")`\n",
    "\n",
    "Code block ex: print(\"Code block\")"
   ]
  },
  {
   "cell_type": "markdown",
   "id": "f41a97f0-931e-485a-bf14-43457e48a74e",
   "metadata": {},
   "source": [
    "# 10 Horizontal Lines"
   ]
  },
  {
   "cell_type": "markdown",
   "id": "a7c6896c-5e83-4143-86ca-8c5a635d8f53",
   "metadata": {},
   "source": [
    "---\n",
    "***"
   ]
  },
  {
   "cell_type": "markdown",
   "id": "2e16353f-86e7-47bb-8213-a1ed3945a6b7",
   "metadata": {},
   "source": [
    "# 11 Tables"
   ]
  },
  {
   "cell_type": "markdown",
   "id": "75b68f37-bde1-45b3-abc3-69781e55f930",
   "metadata": {},
   "source": [
    "|Header 1 | Header 2|\n",
    "|---------|---------|\n",
    "| Row 1   | Data 1  |\n",
    "| Row 2   | Data 2  |"
   ]
  },
  {
   "cell_type": "markdown",
   "id": "a2fce0c0-3986-4854-b291-20df3c0cbba8",
   "metadata": {},
   "source": [
    "# 12 LaTeX (Mathematical Equations)"
   ]
  },
  {
   "cell_type": "raw",
   "id": "bb5bb73d-19d9-4498-950f-f950548a9c07",
   "metadata": {},
   "source": [
    "Surround equations with $ for inline LaTeX or $$ for block LaTeX"
   ]
  },
  {
   "cell_type": "markdown",
   "id": "bce4e813-1b80-4239-abde-6f03a628a297",
   "metadata": {},
   "source": [
    "Inline eqn: $E = mc^2$\n",
    "\n",
    "block eqn:  \n",
    "$$\n",
    "E = mc^2\n",
    "$$"
   ]
  },
  {
   "cell_type": "markdown",
   "id": "d1b152f6-3798-4132-b75a-c79f8e1a05ce",
   "metadata": {},
   "source": [
    "# 13 Footnotes"
   ]
  },
  {
   "cell_type": "raw",
   "id": "b19fe539-5281-41d4-b83e-5608a33c4760",
   "metadata": {},
   "source": [
    "Use [text][1] for footnotes,and define the reference later in the document."
   ]
  },
  {
   "cell_type": "markdown",
   "id": "5c404a41-b75d-4030-ab1d-2a187f86be3c",
   "metadata": {},
   "source": [
    "This is a sentence with a footnote.[^1]\n",
    "[^1]: this is the footnote content.\n"
   ]
  },
  {
   "cell_type": "markdown",
   "id": "14550ca5-563c-4ea5-a5df-a2d48cd63bdf",
   "metadata": {},
   "source": [
    "# 14 Strikethrough Text"
   ]
  },
  {
   "cell_type": "raw",
   "id": "2025cfd6-9a14-43f2-8787-1d6942a8cf79",
   "metadata": {},
   "source": [
    "Use double tildes (~~) to create strikethrough"
   ]
  },
  {
   "cell_type": "markdown",
   "id": "d0ceda10-66f6-4102-b320-af36e9ab01fd",
   "metadata": {},
   "source": [
    "~~This text is struck through~~"
   ]
  },
  {
   "cell_type": "markdown",
   "id": "86d9ff60-9bcf-40fe-83f9-fe3018e70529",
   "metadata": {},
   "source": [
    "# 15 Line breaks"
   ]
  },
  {
   "cell_type": "markdown",
   "id": "dae22da8-33d4-432f-b732-7a4312c965c3",
   "metadata": {},
   "source": [
    "First line with two spaces.\n",
    "Second line."
   ]
  },
  {
   "cell_type": "code",
   "execution_count": null,
   "id": "517ffe14-1511-4dbb-b826-4930f30a3be2",
   "metadata": {},
   "outputs": [],
   "source": []
  }
 ],
 "metadata": {
  "kernelspec": {
   "display_name": "Python 3 (ipykernel)",
   "language": "python",
   "name": "python3"
  },
  "language_info": {
   "codemirror_mode": {
    "name": "ipython",
    "version": 3
   },
   "file_extension": ".py",
   "mimetype": "text/x-python",
   "name": "python",
   "nbconvert_exporter": "python",
   "pygments_lexer": "ipython3",
   "version": "3.12.4"
  }
 },
 "nbformat": 4,
 "nbformat_minor": 5
}
